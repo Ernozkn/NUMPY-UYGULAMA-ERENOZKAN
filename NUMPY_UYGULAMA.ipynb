{
  "nbformat": 4,
  "nbformat_minor": 0,
  "metadata": {
    "colab": {
      "provenance": [],
      "authorship_tag": "ABX9TyMeRWwpKoZbdrmD4rLcg1Gs",
      "include_colab_link": true
    },
    "kernelspec": {
      "name": "python3",
      "display_name": "Python 3"
    },
    "language_info": {
      "name": "python"
    }
  },
  "cells": [
    {
      "cell_type": "markdown",
      "metadata": {
        "id": "view-in-github",
        "colab_type": "text"
      },
      "source": [
        "<a href=\"https://colab.research.google.com/github/Ernozkn/NUMPY-UYGULAMA-ERENOZKAN/blob/main/NUMPY_UYGULAMA.ipynb\" target=\"_parent\"><img src=\"https://colab.research.google.com/assets/colab-badge.svg\" alt=\"Open In Colab\"/></a>"
      ]
    },
    {
      "cell_type": "code",
      "execution_count": 6,
      "metadata": {
        "colab": {
          "base_uri": "https://localhost:8080/"
        },
        "id": "sNGfD6GthGfl",
        "outputId": "845517a0-0e69-4a4a-d53f-3a7def6a4d04"
      },
      "outputs": [
        {
          "output_type": "stream",
          "name": "stdout",
          "text": [
            "Requirement already satisfied: numpy in /usr/local/lib/python3.11/dist-packages (2.0.2)\n",
            "2.0.2\n"
          ]
        }
      ],
      "source": [
        "!pip install numpy\n",
        "\n",
        "import numpy as np\n",
        "print(np.__version__)\n"
      ]
    },
    {
      "cell_type": "markdown",
      "source": [
        "**✅ 1. NumPy Getting Started**\n",
        "> Açıklama: NumPy kütüphanesini np takma adıyla projeye dahil eder.\n",
        "\n",
        "\n",
        "\n",
        "\n"
      ],
      "metadata": {
        "id": "Gq3zfQnNhXQw"
      }
    },
    {
      "cell_type": "code",
      "source": [
        "# 1 den 10 a kadar olan sayılar\n",
        "dizi = np.array([1,2,3,4,5,6,7,8,9])\n",
        "print(dizi)"
      ],
      "metadata": {
        "colab": {
          "base_uri": "https://localhost:8080/"
        },
        "id": "i2H1iNITiAuq",
        "outputId": "8c2f1b74-6dab-4a20-a3db-4a6d9c0ee7be"
      },
      "execution_count": 7,
      "outputs": [
        {
          "output_type": "stream",
          "name": "stdout",
          "text": [
            "[1 2 3 4 5 6 7 8 9]\n"
          ]
        }
      ]
    },
    {
      "cell_type": "markdown",
      "source": [
        "**✅ 2. NumPy Creating Arrays**\n",
        "> Açıklama: Verilen listedeki elemanlarla bir NumPy dizisi oluşturur."
      ],
      "metadata": {
        "id": "W20pnZojiDm4"
      }
    },
    {
      "cell_type": "code",
      "source": [
        "# 5 elemanlı sıfırlardan oluşan bir dizi\n",
        "dizi1 = np.zeros(5)\n",
        "print(dizi1)\n",
        "\n",
        "# 3x3'lük birler matrisi\n",
        "dizi2 = np.ones((3, 3))\n",
        "print(dizi2)\n",
        "\n",
        "# 10 ile 20 arasında artan bir dizi\n",
        "dizi3 = np.arange(10, 21)\n",
        "print(dizi3)"
      ],
      "metadata": {
        "colab": {
          "base_uri": "https://localhost:8080/"
        },
        "id": "NOl5KaHTiU1a",
        "outputId": "18aa78bb-e1c3-4f71-f2b8-268a9f45b8e9"
      },
      "execution_count": 8,
      "outputs": [
        {
          "output_type": "stream",
          "name": "stdout",
          "text": [
            "[0. 0. 0. 0. 0.]\n",
            "[[1. 1. 1.]\n",
            " [1. 1. 1.]\n",
            " [1. 1. 1.]]\n",
            "[10 11 12 13 14 15 16 17 18 19 20]\n"
          ]
        }
      ]
    },
    {
      "cell_type": "markdown",
      "source": [
        "**✅ 3. NumPy Array Indexing**\n",
        "> Açıklama: arr isimli 2 boyutlu dizide 2. satırın 3. sütunundaki elemana erişir."
      ],
      "metadata": {
        "id": "6jEKm32PifiU"
      }
    },
    {
      "cell_type": "code",
      "source": [
        "arr = np.array([[5, 10, 15],\n",
        "                [20, 25, 30],\n",
        "                [35, 40, 45]])\n",
        "eleman = arr[1][2]\n",
        "print(eleman)"
      ],
      "metadata": {
        "colab": {
          "base_uri": "https://localhost:8080/"
        },
        "id": "bognix-VirVT",
        "outputId": "54edf2c3-b990-4bd9-dc55-32f60fe7831c"
      },
      "execution_count": 9,
      "outputs": [
        {
          "output_type": "stream",
          "name": "stdout",
          "text": [
            "30\n"
          ]
        }
      ]
    },
    {
      "cell_type": "markdown",
      "source": [
        "**✅ 4. NumPy Array Slicing**\n",
        "> Açıklama: Tüm satırlardan ilk iki sütunu seçer (slicing)."
      ],
      "metadata": {
        "id": "qqYlHYgmizwZ"
      }
    },
    {
      "cell_type": "code",
      "source": [
        "arr = np.array([[5, 10, 15],\n",
        "                [20, 25, 30],\n",
        "                [35, 40, 45]])\n",
        "alt_dizi = arr[:, 0:2]\n",
        "print(alt_dizi)"
      ],
      "metadata": {
        "colab": {
          "base_uri": "https://localhost:8080/"
        },
        "id": "eP12Nc2Ji7RI",
        "outputId": "ad9ab252-6baa-443c-bdc6-3334be8a26a0"
      },
      "execution_count": 10,
      "outputs": [
        {
          "output_type": "stream",
          "name": "stdout",
          "text": [
            "[[ 5 10]\n",
            " [20 25]\n",
            " [35 40]]\n"
          ]
        }
      ]
    },
    {
      "cell_type": "markdown",
      "source": [
        "**✅ 5. NumPy Data Types**\n",
        ">  Açıklama: Bir NumPy dizisinin veri tipini verir."
      ],
      "metadata": {
        "id": "v0vzdZiPjONY"
      }
    },
    {
      "cell_type": "code",
      "source": [
        "print(arr.dtype)\n",
        "# Diziyi float türüne dönüştür\n",
        "arr_float = arr.astype(float)\n",
        "print(arr_float.dtype)"
      ],
      "metadata": {
        "colab": {
          "base_uri": "https://localhost:8080/"
        },
        "id": "EPdLQnv3jT8X",
        "outputId": "03b9018d-64c5-4d44-8b20-596a412e4751"
      },
      "execution_count": 11,
      "outputs": [
        {
          "output_type": "stream",
          "name": "stdout",
          "text": [
            "int64\n",
            "float64\n"
          ]
        }
      ]
    },
    {
      "cell_type": "markdown",
      "source": [
        "**✅ 6. NumPy Copy vs View**\n",
        ">  Açıklama: copy() fonksiyonu orijinal dizinin bağımsız bir kopyasını oluşturur."
      ],
      "metadata": {
        "id": "awnTIJ2VjZ11"
      }
    },
    {
      "cell_type": "code",
      "source": [
        "# Orijinal dizi\n",
        "arr = np.array([10, 20, 30, 40])\n",
        "\n",
        "# Kopya oluştur\n",
        "arr_copy = arr.copy()\n",
        "\n",
        "# View (görünüm) oluştur\n",
        "arr_view = arr.view()\n",
        "\n",
        "# Kopyada değişiklik yap\n",
        "arr_copy[0] = 999\n",
        "\n",
        "# View'da değişiklik yap\n",
        "arr_view[1] = 888\n",
        "\n",
        "# Hepsini yazdır\n",
        "print(\"Orijinal dizi:\", arr)\n",
        "print(\"Kopya dizi:\", arr_copy)\n",
        "print(\"View dizi:\", arr_view)"
      ],
      "metadata": {
        "colab": {
          "base_uri": "https://localhost:8080/"
        },
        "id": "970EnMJhjhTD",
        "outputId": "c27ed4d7-f91f-4b29-b067-d260a80a9a6f"
      },
      "execution_count": 12,
      "outputs": [
        {
          "output_type": "stream",
          "name": "stdout",
          "text": [
            "Orijinal dizi: [ 10 888  30  40]\n",
            "Kopya dizi: [999  20  30  40]\n",
            "View dizi: [ 10 888  30  40]\n"
          ]
        }
      ]
    },
    {
      "cell_type": "markdown",
      "source": [
        "**✅ 7. NumPy Array Shape**\n",
        ">  Açıklama: Dizinin satır ve sütun sayısını verir (şeklini gösterir)."
      ],
      "metadata": {
        "id": "23Y3u8Lijmww"
      }
    },
    {
      "cell_type": "code",
      "source": [
        "# 3x4 boyutunda bir NumPy dizisi oluştur\n",
        "arr = np.array([[1, 2, 3, 4],\n",
        "                [5, 6, 7, 8],\n",
        "                [9, 10, 11, 12]])\n",
        "\n",
        "# Dizi boyutlarını yazdır\n",
        "print(\"Dizinin boyutları:\", arr.shape)"
      ],
      "metadata": {
        "colab": {
          "base_uri": "https://localhost:8080/"
        },
        "id": "cxPnuHpxjlJj",
        "outputId": "9172dcb8-1eb0-46f9-d795-9e062c64fa9e"
      },
      "execution_count": 13,
      "outputs": [
        {
          "output_type": "stream",
          "name": "stdout",
          "text": [
            "Dizinin boyutları: (3, 4)\n"
          ]
        }
      ]
    },
    {
      "cell_type": "markdown",
      "source": [
        "**✅ 8. NumPy Array Reshape**\n",
        ">  Açıklama: Tek boyutlu bir diziyi 3 satır 4 sütunlu matrise dönüştürür"
      ],
      "metadata": {
        "id": "ZZQB6efDjzVa"
      }
    },
    {
      "cell_type": "code",
      "source": [
        "# 1'den 12'ye kadar olan sayılardan oluşan dizi oluştur (1 dahil, 13 hariç)\n",
        "arr = np.arange(1, 13)\n",
        "\n",
        "# 3x4 boyutunda matrise dönüştür\n",
        "matrix = arr.reshape(3, 4)\n",
        "\n",
        "# Matrisi yazdır\n",
        "print(\"3x4 Matris:\\n\", matrix)"
      ],
      "metadata": {
        "colab": {
          "base_uri": "https://localhost:8080/"
        },
        "id": "yWFw5rFCjzq2",
        "outputId": "72cdfdf1-fed1-4794-e755-3ca90e3cd039"
      },
      "execution_count": 14,
      "outputs": [
        {
          "output_type": "stream",
          "name": "stdout",
          "text": [
            "3x4 Matris:\n",
            " [[ 1  2  3  4]\n",
            " [ 5  6  7  8]\n",
            " [ 9 10 11 12]]\n"
          ]
        }
      ]
    },
    {
      "cell_type": "markdown",
      "source": [
        "**✅ 9. NumPy Array Iterating**\n",
        ">  Açıklama: NumPy dizisi üzerinde döngü kurarak satırları yazdırır"
      ],
      "metadata": {
        "id": "IOBEjEyXj7Dg"
      }
    },
    {
      "cell_type": "code",
      "source": [
        "# 2 boyutlu NumPy dizisi\n",
        "arr = np.array([[1, 2, 3],\n",
        "                [4, 5, 6],\n",
        "                [7, 8, 9]])\n",
        "\n",
        "# Satır satır döngü\n",
        "for row in arr:\n",
        "    for elem in row:\n",
        "        print(elem, end=' ')\n",
        "    print()  # Satır sonu için boş print"
      ],
      "metadata": {
        "colab": {
          "base_uri": "https://localhost:8080/"
        },
        "id": "rzBy9blvkAz_",
        "outputId": "c1dc2f0e-18aa-490e-e9f3-030b653a6784"
      },
      "execution_count": 15,
      "outputs": [
        {
          "output_type": "stream",
          "name": "stdout",
          "text": [
            "1 2 3 \n",
            "4 5 6 \n",
            "7 8 9 \n"
          ]
        }
      ]
    },
    {
      "cell_type": "markdown",
      "source": [
        "**✅ 10. NumPy Array Join**\n",
        ">  Açıklama: İki diziyi dikey olarak birleştirir"
      ],
      "metadata": {
        "id": "4VMCvN-ukGpa"
      }
    },
    {
      "cell_type": "code",
      "source": [
        "a = np.array([[1, 2],[3, 4]])\n",
        "\n",
        "b = np.array([[5, 6],[7, 8]])\n",
        "birleştirme = np.concatenate((a, b), axis=0)\n",
        "print(\"Dikey birleştirme:\\n\", birleştirme)"
      ],
      "metadata": {
        "colab": {
          "base_uri": "https://localhost:8080/"
        },
        "id": "h1OjT5l3kIko",
        "outputId": "c3b2005e-f09d-47a3-d058-40d212348a18"
      },
      "execution_count": 16,
      "outputs": [
        {
          "output_type": "stream",
          "name": "stdout",
          "text": [
            "Dikey birleştirme:\n",
            " [[1 2]\n",
            " [3 4]\n",
            " [5 6]\n",
            " [7 8]]\n"
          ]
        }
      ]
    },
    {
      "cell_type": "markdown",
      "source": [
        "**✅ 11. NumPy Array Split**\n",
        ">  Açıklama: Diziyi 3 parçaya böler."
      ],
      "metadata": {
        "id": "6WWdw7NDkVhC"
      }
    },
    {
      "cell_type": "code",
      "source": [
        "# 1'den 12'ye kadar olan dizi (1 dahil, 13 hariç)\n",
        "arr = np.arange(1, 13)\n",
        "\n",
        "# 3 eşit parçaya böl\n",
        "bölme = np.split(arr, 3)\n",
        "\n",
        "print(\"3 eşit parçaya bölünmüş dizi:\",bölme)"
      ],
      "metadata": {
        "colab": {
          "base_uri": "https://localhost:8080/"
        },
        "id": "EXepGZ0nkbT-",
        "outputId": "46369ffa-1165-4e80-f310-5ac7e0f6f5a3"
      },
      "execution_count": 17,
      "outputs": [
        {
          "output_type": "stream",
          "name": "stdout",
          "text": [
            "3 eşit parçaya bölünmüş dizi: [array([1, 2, 3, 4]), array([5, 6, 7, 8]), array([ 9, 10, 11, 12])]\n"
          ]
        }
      ]
    },
    {
      "cell_type": "markdown",
      "source": [
        "**✅ 12. NumPy Array Search**\n",
        ">  Açıklama: 25 değerinin dizideki konumunu (indeksini) verir.Açıklama: Diziyi 3 parçaya böler."
      ],
      "metadata": {
        "id": "Py__h8Jhkd4D"
      }
    },
    {
      "cell_type": "code",
      "source": [
        "arr = np.array([10, 15, 20, 25, 30])\n",
        "# 25 in indeks değerini buldurur\n",
        "bulma = np.where(arr == 25)\n",
        "print(\"Aranan elemanın indeks numarası:\",bulma)"
      ],
      "metadata": {
        "colab": {
          "base_uri": "https://localhost:8080/"
        },
        "id": "-r8VV61lklkf",
        "outputId": "e38b9da9-11de-4e21-cbc8-302deaa9f7fa"
      },
      "execution_count": 18,
      "outputs": [
        {
          "output_type": "stream",
          "name": "stdout",
          "text": [
            "Aranan elemanın indeks numarası: (array([3]),)\n"
          ]
        }
      ]
    },
    {
      "cell_type": "markdown",
      "source": [
        "**✅ 13. NumPy Array Sort**\n",
        ">  Açıklama: Dizinin elemanlarını sıralar."
      ],
      "metadata": {
        "id": "8SQ6aM4LkrJ3"
      }
    },
    {
      "cell_type": "code",
      "source": [
        "arr = np.array([42, 17, 8, 99, 23])\n",
        "# Sayıları küçükten büyüğe sıralar\n",
        "sıralı_dizi = np.sort(arr)\n",
        "print(\"Sıralı dizi:\", sıralı_dizi)"
      ],
      "metadata": {
        "colab": {
          "base_uri": "https://localhost:8080/"
        },
        "id": "usQpwcO5kyxJ",
        "outputId": "33d56102-206c-477d-bb17-e1329ff4b440"
      },
      "execution_count": 19,
      "outputs": [
        {
          "output_type": "stream",
          "name": "stdout",
          "text": [
            "Sıralı dizi: [ 8 17 23 42 99]\n"
          ]
        }
      ]
    },
    {
      "cell_type": "markdown",
      "source": [
        "**✅ 14. NumPy Array Filter**\n",
        ">  Açıklama: Yalnızca çift sayıları filtreleyerek yeni bir dizi oluşturur."
      ],
      "metadata": {
        "id": "16Ofq9jUkznN"
      }
    },
    {
      "cell_type": "code",
      "source": [
        "arr = np.array([1, 2, 3, 4, 5, 6])\n",
        "# çift sayıları bulur\n",
        "cift_sayılar = arr[arr % 2 == 0]\n",
        "print(\"Çift sayılar:\", cift_sayılar)"
      ],
      "metadata": {
        "colab": {
          "base_uri": "https://localhost:8080/"
        },
        "id": "qpnH-KGyk5tL",
        "outputId": "828b2f99-b67c-42a4-943c-8314199e4ff7"
      },
      "execution_count": 20,
      "outputs": [
        {
          "output_type": "stream",
          "name": "stdout",
          "text": [
            "Çift sayılar: [2 4 6]\n"
          ]
        }
      ]
    }
  ]
}